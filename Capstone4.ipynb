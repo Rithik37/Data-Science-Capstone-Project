{
    "cells": [
        {
            "cell_type": "markdown",
            "metadata": {
                "collapsed": true
            },
            "source": "<h1>IBM Applied Data Science project</h1>"
        },
        {
            "cell_type": "markdown",
            "metadata": {},
            "source": "<h2>Introduction</h2>\n"
        },
        {
            "cell_type": "markdown",
            "metadata": {},
            "source": "Restaurants have always played an essential role in the business, social, intellectual and artistic life of a thriving society. The major events of life, personal and professional, are celebrated in restaurants. Acquaintances become friends around a table in the safe and controlled environment of a restaurant. Restaurants are more important than ever. \n\nBeyond the basic purpose of restaurants to provide food and drink, restaurants have fulfilled a human need for connection and shaped social relations. Restaurants occupy an increasingly important place in shaping our overall economy and the nature and makeup of our cities.\n\nRestaurants have always been the leading edge of reshaping neighborhoods.  In certain places, people dine more outside the home.  People do crave  the social experience of dining.  Economy and Employment depend on restaurants in a certain way.\n"
        },
        {
            "cell_type": "markdown",
            "metadata": {},
            "source": "<h2>Business Problem</h2>"
        },
        {
            "cell_type": "markdown",
            "metadata": {},
            "source": "The objective of this capstone project is to analyze and select the best locations in the  city of Hyderabad, India to open a new restaurant. Using data science methodology  and machine learning techniques like clustering, this project aims to provide solutions  to answer the business question: <b>In the city of Hyderabad,India if a property developer is  looking to open a restaurant, where would you recommend that they open it?</b>\n\nAlthough the restaurant industry is very competitive and as the number of people have less time, resources, and ability to cook for them it is important that the restaurant is well positioned for the current interest and people get healthier foods at moderate to low prices.In order to open a restaurant, we need to prepare business plan first. About finding location and finding restaurant name will take some time. Financing  the business will take time. Installation of electricity and equipment and at last we need to obtain business licence.\n"
        },
        {
            "cell_type": "markdown",
            "metadata": {},
            "source": "<h2>Target Audience</h2>"
        },
        {
            "cell_type": "markdown",
            "metadata": {},
            "source": "This project is particularly useful to property developers and investors looking to open\u00a0 or invest in restaurants in the capital city of Telangana i.e. Hyderabad.\u00a0This should be carefully planned and executed so that it will be beneficial to everyone.People can come and enjoy the variety of cuisines and delicious food."
        },
        {
            "cell_type": "code",
            "execution_count": null,
            "metadata": {},
            "outputs": [],
            "source": ""
        }
    ],
    "metadata": {
        "kernelspec": {
            "display_name": "Python 3.6",
            "language": "python",
            "name": "python3"
        },
        "language_info": {
            "codemirror_mode": {
                "name": "ipython",
                "version": 3
            },
            "file_extension": ".py",
            "mimetype": "text/x-python",
            "name": "python",
            "nbconvert_exporter": "python",
            "pygments_lexer": "ipython3",
            "version": "3.6.9"
        }
    },
    "nbformat": 4,
    "nbformat_minor": 1
}