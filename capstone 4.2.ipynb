{
    "cells": [
        {
            "cell_type": "markdown",
            "metadata": {
                "collapsed": true
            },
            "source": "<h2>Data</h2>"
        },
        {
            "cell_type": "markdown",
            "metadata": {},
            "source": "To solve the problem, we will need the following data:\u00a0<br>\n\u2022List of neighbourhoods in Hyderabad. This defines the scope of this project which is\u00a0 confined to the city of Hyderabad, the capital city of Telangana which is in South India\u00a0<br>\n\u2022Latitude and longitude coordinates of those neighbourhoods. This is required in\u00a0 order to plot the map and also to get the venue data.<br>    \u2022Venue data, particularly data related to shopping malls. We will use this data to\u00a0 perform clustering on the neighbourhoods.\u00a0"
        },
        {
            "cell_type": "markdown",
            "metadata": {},
            "source": "<h2>Sources of data and methods to extract </h2>"
        },
        {
            "cell_type": "markdown",
            "metadata": {},
            "source": "This Wikipedia page\u00a0 (\u200bhttps://en.wikipedia.org/wiki/Category:Neighbourhoods_in_Hyderabad,_India\u200b) contains\u00a0 a list of neighbourhoods in Hyderabad, with a total of 200 neighbourhoods. We will use\u00a0 web scraping techniques to extract the data from the Wikipedia page, with the help of\u00a0 Python requests and beautifulsoup packages. Then we will get the geographical\u00a0 coordinates of the neighbourhoods using Python Geocoder package which will give us\u00a0 the latitude and longitude coordinates of the neighbourhoods.\u00a0\n\nAfter that, we will use Foursquare API to get the venue data for those neighbourhoods.\u00a0 Foursquare has one of the largest databases of 105+ million places and is used by over\u00a0 125,000 developers. Foursquare API will provide many categories of the venue data, we\u00a0 are particularly interested in the Shopping Mall category in order to help us to solve the\u00a0 business problem put forward. This is a project that will make use of many data science\u00a0 skills, from web scraping (Wikipedia), working with API (Foursquare), data cleaning, data\u00a0 wrangling, to machine learning (K-means clustering) and map visualization (Folium).\u00a0\n"
        },
        {
            "cell_type": "code",
            "execution_count": null,
            "metadata": {},
            "outputs": [],
            "source": ""
        }
    ],
    "metadata": {
        "kernelspec": {
            "display_name": "Python 3.6",
            "language": "python",
            "name": "python3"
        },
        "language_info": {
            "codemirror_mode": {
                "name": "ipython",
                "version": 3
            },
            "file_extension": ".py",
            "mimetype": "text/x-python",
            "name": "python",
            "nbconvert_exporter": "python",
            "pygments_lexer": "ipython3",
            "version": "3.6.9"
        }
    },
    "nbformat": 4,
    "nbformat_minor": 1
}